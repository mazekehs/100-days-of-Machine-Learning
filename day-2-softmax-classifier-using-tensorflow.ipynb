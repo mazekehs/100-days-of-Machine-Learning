{
 "cells": [
  {
   "cell_type": "code",
   "execution_count": 1,
   "id": "67b35710",
   "metadata": {
    "execution": {
     "iopub.execute_input": "2024-05-14T17:51:22.773896Z",
     "iopub.status.busy": "2024-05-14T17:51:22.773616Z",
     "iopub.status.idle": "2024-05-14T17:51:34.520167Z",
     "shell.execute_reply": "2024-05-14T17:51:34.519368Z"
    },
    "papermill": {
     "duration": 11.752959,
     "end_time": "2024-05-14T17:51:34.522458",
     "exception": false,
     "start_time": "2024-05-14T17:51:22.769499",
     "status": "completed"
    },
    "tags": []
   },
   "outputs": [
    {
     "name": "stderr",
     "output_type": "stream",
     "text": [
      "2024-05-14 17:51:24.361353: E external/local_xla/xla/stream_executor/cuda/cuda_dnn.cc:9261] Unable to register cuDNN factory: Attempting to register factory for plugin cuDNN when one has already been registered\n",
      "2024-05-14 17:51:24.361469: E external/local_xla/xla/stream_executor/cuda/cuda_fft.cc:607] Unable to register cuFFT factory: Attempting to register factory for plugin cuFFT when one has already been registered\n",
      "2024-05-14 17:51:24.478808: E external/local_xla/xla/stream_executor/cuda/cuda_blas.cc:1515] Unable to register cuBLAS factory: Attempting to register factory for plugin cuBLAS when one has already been registered\n"
     ]
    }
   ],
   "source": [
    "import warnings\n",
    "\n",
    "# Ignore all warnings\n",
    "warnings.filterwarnings(\"ignore\")\n",
    "\n",
    "import tensorflow as tf\n",
    "from tensorflow.keras.datasets import mnist\n",
    "%matplotlib inline\n",
    "import matplotlib.pyplot as plt\n"
   ]
  },
  {
   "cell_type": "code",
   "execution_count": 2,
   "id": "aae2a6ce",
   "metadata": {
    "execution": {
     "iopub.execute_input": "2024-05-14T17:51:34.529870Z",
     "iopub.status.busy": "2024-05-14T17:51:34.529391Z",
     "iopub.status.idle": "2024-05-14T17:51:36.516119Z",
     "shell.execute_reply": "2024-05-14T17:51:36.515039Z"
    },
    "papermill": {
     "duration": 1.99283,
     "end_time": "2024-05-14T17:51:36.518511",
     "exception": false,
     "start_time": "2024-05-14T17:51:34.525681",
     "status": "completed"
    },
    "tags": []
   },
   "outputs": [
    {
     "name": "stdout",
     "output_type": "stream",
     "text": [
      "Downloading data from https://storage.googleapis.com/tensorflow/tf-keras-datasets/mnist.npz\n",
      "\u001b[1m11490434/11490434\u001b[0m \u001b[32m━━━━━━━━━━━━━━━━━━━━\u001b[0m\u001b[37m\u001b[0m \u001b[1m1s\u001b[0m 0us/step\n"
     ]
    }
   ],
   "source": [
    "# Load and preprocess the MNIST dataset\n",
    "(train_images, train_labels), (test_images, test_labels) = mnist.load_data()\n",
    "train_images = train_images.astype('float32') / 255.0\n",
    "test_images = test_images.astype('float32') / 255.0\n",
    "\n",
    "# One-hot encode the labels\n",
    "num_classes = 10\n",
    "train_labels_one_hot = tf.one_hot(train_labels, depth=num_classes)\n",
    "test_labels_one_hot = tf.one_hot(test_labels, depth=num_classes)"
   ]
  },
  {
   "cell_type": "code",
   "execution_count": 3,
   "id": "9c17b675",
   "metadata": {
    "execution": {
     "iopub.execute_input": "2024-05-14T17:51:36.528222Z",
     "iopub.status.busy": "2024-05-14T17:51:36.527875Z",
     "iopub.status.idle": "2024-05-14T17:51:36.577426Z",
     "shell.execute_reply": "2024-05-14T17:51:36.576648Z"
    },
    "papermill": {
     "duration": 0.056697,
     "end_time": "2024-05-14T17:51:36.579543",
     "exception": false,
     "start_time": "2024-05-14T17:51:36.522846",
     "status": "completed"
    },
    "tags": []
   },
   "outputs": [],
   "source": [
    "# Define the softmax classifier model using TensorFlow Keras\n",
    "model = tf.keras.Sequential([\n",
    "    tf.keras.layers.Flatten(input_shape=(28, 28)),  # Flatten the input images\n",
    "    tf.keras.layers.Dense(num_classes, activation='softmax')  # Output layer with softmax activation\n",
    "])\n"
   ]
  },
  {
   "cell_type": "code",
   "execution_count": 4,
   "id": "e7d0c0e6",
   "metadata": {
    "execution": {
     "iopub.execute_input": "2024-05-14T17:51:36.588915Z",
     "iopub.status.busy": "2024-05-14T17:51:36.588616Z",
     "iopub.status.idle": "2024-05-14T17:51:36.600777Z",
     "shell.execute_reply": "2024-05-14T17:51:36.599945Z"
    },
    "papermill": {
     "duration": 0.019043,
     "end_time": "2024-05-14T17:51:36.602721",
     "exception": false,
     "start_time": "2024-05-14T17:51:36.583678",
     "status": "completed"
    },
    "tags": []
   },
   "outputs": [],
   "source": [
    " #Compile the model\n",
    "model.compile(optimizer=tf.keras.optimizers.SGD(learning_rate=0.05),\n",
    "              loss='categorical_crossentropy',\n",
    "              metrics=['accuracy'])\n",
    "\n"
   ]
  },
  {
   "cell_type": "code",
   "execution_count": 5,
   "id": "f14f5ebc",
   "metadata": {
    "execution": {
     "iopub.execute_input": "2024-05-14T17:51:36.611839Z",
     "iopub.status.busy": "2024-05-14T17:51:36.611566Z",
     "iopub.status.idle": "2024-05-14T17:53:40.490952Z",
     "shell.execute_reply": "2024-05-14T17:53:40.489832Z"
    },
    "papermill": {
     "duration": 123.886242,
     "end_time": "2024-05-14T17:53:40.492992",
     "exception": false,
     "start_time": "2024-05-14T17:51:36.606750",
     "status": "completed"
    },
    "tags": []
   },
   "outputs": [
    {
     "name": "stderr",
     "output_type": "stream",
     "text": [
      "WARNING: All log messages before absl::InitializeLog() is called are written to STDERR\n",
      "I0000 00:00:1715709097.984365      67 device_compiler.h:186] Compiled cluster using XLA!  This line is logged at most once for the lifetime of the process.\n"
     ]
    },
    {
     "name": "stdout",
     "output_type": "stream",
     "text": [
      "Epoch 1, Training Cost: 0.5101151754458744, Test Cost: 0.9726576209068298\n",
      "Epoch 2, Training Cost: 0.8122476994991307, Test Cost: 0.7174316644668579\n",
      "Epoch 3, Training Cost: 0.8422109375397366, Test Cost: 0.610816240310669\n",
      "Epoch 4, Training Cost: 0.8562087217966714, Test Cost: 0.550736129283905\n",
      "Epoch 5, Training Cost: 0.8644469728072484, Test Cost: 0.5114667415618896\n",
      "Epoch 6, Training Cost: 0.8702870130538943, Test Cost: 0.48343101143836975\n",
      "Epoch 7, Training Cost: 0.8750765790541968, Test Cost: 0.46221157908439636\n",
      "Epoch 8, Training Cost: 0.8787650545438129, Test Cost: 0.44547104835510254\n",
      "Epoch 9, Training Cost: 0.8817199220259981, Test Cost: 0.4318504333496094\n",
      "Epoch 10, Training Cost: 0.8844246904055276, Test Cost: 0.4205010235309601\n",
      "Epoch 11, Training Cost: 0.8865672061840693, Test Cost: 0.4108635187149048\n",
      "Epoch 12, Training Cost: 0.8882229377826054, Test Cost: 0.40255266427993774\n",
      "Epoch 13, Training Cost: 0.889700320363045, Test Cost: 0.395293653011322\n",
      "Epoch 14, Training Cost: 0.8912284473578136, Test Cost: 0.38888490200042725\n",
      "Epoch 15, Training Cost: 0.8925381253163021, Test Cost: 0.3831751346588135\n"
     ]
    }
   ],
   "source": [
    "# Training parameters\n",
    "training_epochs = 15\n",
    "batch_size = 1000\n",
    "display_step = 1\n",
    "\n",
    "# Lists to store training and testing losses\n",
    "xs, ytrs, ytes = [], [], []\n",
    "\n",
    "# Training loop\n",
    "for epoch in range(training_epochs):\n",
    "    train_avg_cost = 0.\n",
    "    test_avg_cost = 0.\n",
    "    total_batch = len(train_images) // batch_size\n",
    "    \n",
    "    # Loop over all batches\n",
    "    for i in range(total_batch):\n",
    "        start_idx = i * batch_size\n",
    "        end_idx = (i + 1) * batch_size\n",
    "        batch_xs, batch_ys = train_images[start_idx:end_idx], train_labels_one_hot[start_idx:end_idx]\n",
    "         # Perform one training step\n",
    "        _, c = model.train_on_batch(batch_xs, batch_ys)\n",
    "        train_avg_cost += c / total_batch\n",
    "    test_loss, test_accuracy = model.evaluate(test_images, test_labels_one_hot, verbose=0)\n",
    "    test_avg_cost = test_loss\n",
    "    \n",
    "    # Store results for plotting\n",
    "    xs.append(epoch)\n",
    "    ytrs.append(train_avg_cost)\n",
    "    ytes.append(test_avg_cost)\n",
    "    \n",
    "    # Display training progress\n",
    "    if (epoch + 1) % display_step == 0:\n",
    "        print(f\"Epoch {epoch + 1}, Training Cost: {train_avg_cost}, Test Cost: {test_avg_cost}\")\n"
   ]
  },
  {
   "cell_type": "code",
   "execution_count": 6,
   "id": "ba4ea791",
   "metadata": {
    "execution": {
     "iopub.execute_input": "2024-05-14T17:53:40.505775Z",
     "iopub.status.busy": "2024-05-14T17:53:40.505242Z",
     "iopub.status.idle": "2024-05-14T17:53:41.287697Z",
     "shell.execute_reply": "2024-05-14T17:53:41.286642Z"
    },
    "papermill": {
     "duration": 0.790991,
     "end_time": "2024-05-14T17:53:41.289875",
     "exception": false,
     "start_time": "2024-05-14T17:53:40.498884",
     "status": "completed"
    },
    "tags": []
   },
   "outputs": [
    {
     "data": {
      "image/png": "[encoded data removed]",
      "text/plain": [
       "<Figure size 800x600 with 1 Axes>"
      ]
     },
     "metadata": {},
     "output_type": "display_data"
    },
    {
     "name": "stdout",
     "output_type": "stream",
     "text": [
      "Test Accuracy: 0.8978000283241272\n"
     ]
    }
   ],
   "source": [
    "# Plotting training and testing losses\n",
    "plt.figure(figsize=(8, 6))\n",
    "plt.plot(xs, ytrs, label='Training loss')\n",
    "plt.plot(xs, ytes, label='Testing loss')\n",
    "plt.xlabel('Epoch')\n",
    "plt.ylabel('Softmax Cross Entropy loss')\n",
    "plt.legend()\n",
    "plt.show()\n",
    "\n",
    "# Evaluate accuracy on test data\n",
    "test_accuracy = model.evaluate(test_images, test_labels_one_hot, verbose=0)[1]\n",
    "print(\"Test Accuracy:\",test_accuracy)"
   ]
  },
  {
   "cell_type": "code",
   "execution_count": null,
   "id": "bbebff33",
   "metadata": {
    "papermill": {
     "duration": 0.005733,
     "end_time": "2024-05-14T17:53:41.301760",
     "exception": false,
     "start_time": "2024-05-14T17:53:41.296027",
     "status": "completed"
    },
    "tags": []
   },
   "outputs": [],
   "source": []
  }
 ],
 "metadata": {
  "kaggle": {
   "accelerator": "gpu",
   "dataSources": [],
   "dockerImageVersionId": 30699,
   "isGpuEnabled": true,
   "isInternetEnabled": true,
   "language": "python",
   "sourceType": "notebook"
  },
  "kernelspec": {
   "display_name": "Python 3",
   "language": "python",
   "name": "python3"
  },
  "language_info": {
   "codemirror_mode": {
    "name": "ipython",
    "version": 3
   },
   "file_extension": ".py",
   "mimetype": "text/x-python",
   "name": "python",
   "nbconvert_exporter": "python",
   "pygments_lexer": "ipython3",
   "version": "3.10.13"
  },
  "papermill": {
   "default_parameters": {},
   "duration": 145.218509,
   "end_time": "2024-05-14T17:53:45.279689",
   "environment_variables": {},
   "exception": null,
   "input_path": "__notebook__.ipynb",
   "output_path": "__notebook__.ipynb",
   "parameters": {},
   "start_time": "2024-05-14T17:51:20.061180",
   "version": "2.5.0"
  }
 },
 "nbformat": 4,
 "nbformat_minor": 5
}
